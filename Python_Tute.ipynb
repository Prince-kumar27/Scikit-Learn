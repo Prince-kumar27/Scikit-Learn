{
 "cells": [
  {
   "cell_type": "markdown",
   "id": "20b1b909-5ac0-4c3f-a4e0-737c851920d6",
   "metadata": {},
   "source": [
    "# **Python_Basics**"
   ]
  },
  {
   "cell_type": "markdown",
   "id": "5257b114-a7e9-4e2f-a3a8-4b900550329d",
   "metadata": {},
   "source": [
    "## *Guido Van Rossum -1991*"
   ]
  },
  {
   "cell_type": "markdown",
   "id": "62b3c4cc-7a98-4e2e-b244-158d5a424274",
   "metadata": {},
   "source": [
    "* high level language known for its simplicity.\n",
    "* Python is both compiled and interepeted language."
   ]
  },
  {
   "cell_type": "markdown",
   "id": "a2b19807-eb18-4460-98d9-0174c8320a1d",
   "metadata": {},
   "source": [
    "### Variables"
   ]
  },
  {
   "cell_type": "code",
   "execution_count": 1,
   "id": "df26bed2-fdff-4d70-8d5f-b3bad3d7807a",
   "metadata": {},
   "outputs": [],
   "source": [
    "x=5\n",
    "y='hello' #or y=\"hello\"\n",
    "z=1.4\n",
    "u=1j\n"
   ]
  },
  {
   "cell_type": "code",
   "execution_count": 2,
   "id": "af64acc9-2715-45de-bd1e-afd27654acbd",
   "metadata": {},
   "outputs": [
    {
     "name": "stdout",
     "output_type": "stream",
     "text": [
      "<class 'complex'> <class 'float'>\n"
     ]
    }
   ],
   "source": [
    "print(type(u),type(z))"
   ]
  },
  {
   "cell_type": "code",
   "execution_count": 1,
   "id": "ab847f3f-b982-4f87-838b-e567e7a009b6",
   "metadata": {},
   "outputs": [],
   "source": [
    "x=str(3)#type casting"
   ]
  },
  {
   "cell_type": "code",
   "execution_count": 4,
   "id": "8a0d0b0c-d127-469d-81b2-585914a19b58",
   "metadata": {},
   "outputs": [
    {
     "data": {
      "text/plain": [
       "'3'"
      ]
     },
     "execution_count": 4,
     "metadata": {},
     "output_type": "execute_result"
    }
   ],
   "source": [
    "x"
   ]
  },
  {
   "cell_type": "code",
   "execution_count": 5,
   "id": "f1507fcb-cc94-4191-bc64-8b7b6ada6438",
   "metadata": {},
   "outputs": [
    {
     "name": "stdout",
     "output_type": "stream",
     "text": [
      "john\n"
     ]
    }
   ],
   "source": [
    "_my_var2=\"john\"\n",
    "\n",
    "print(_my_var2)"
   ]
  },
  {
   "cell_type": "markdown",
   "id": "3601e6d0-2143-404e-a486-bb2903aac205",
   "metadata": {},
   "source": [
    "* start with letters or underscore(_).\n",
    "* only contains alphnumeric char."
   ]
  },
  {
   "cell_type": "code",
   "execution_count": 6,
   "id": "70c34387-9d69-43b1-8fd6-e96952d62026",
   "metadata": {},
   "outputs": [
    {
     "name": "stdout",
     "output_type": "stream",
     "text": [
      "orange orange orange\n"
     ]
    }
   ],
   "source": [
    "x=y=z=\"orange\"\n",
    "\n",
    "print(x,y,z)"
   ]
  },
  {
   "cell_type": "code",
   "execution_count": 7,
   "id": "eb8c930b-285c-4677-9d9d-3f35c9842be4",
   "metadata": {},
   "outputs": [],
   "source": [
    "#  single line commment"
   ]
  },
  {
   "cell_type": "code",
   "execution_count": 8,
   "id": "0e9bfea5-6e76-4701-9b6d-7a76077c7e18",
   "metadata": {},
   "outputs": [
    {
     "name": "stdout",
     "output_type": "stream",
     "text": [
      "world\n",
      "world\n"
     ]
    }
   ],
   "source": [
    "x=\"hello\"\n",
    "\n",
    "def myfun():\n",
    "    global x\n",
    "    x=\"world\"\n",
    "    print(x)\n",
    "myfun()\n",
    "print(x)"
   ]
  },
  {
   "cell_type": "code",
   "execution_count": 3,
   "id": "8fc82566-ad56-42d5-ac71-9b08227ee6e7",
   "metadata": {},
   "outputs": [
    {
     "name": "stdin",
     "output_type": "stream",
     "text": [
      "Enter your Number : 3\n"
     ]
    },
    {
     "name": "stdout",
     "output_type": "stream",
     "text": [
      "odd\n"
     ]
    }
   ],
   "source": [
    "a=int(input(\"Enter your Number :\"))#by default input() take as a string\n",
    "\n",
    "print(\"even\") if (a%2==0) else print(\"odd\")"
   ]
  },
  {
   "cell_type": "code",
   "execution_count": 9,
   "id": "fc686313-0a57-412c-a155-75d41223fb0d",
   "metadata": {},
   "outputs": [
    {
     "name": "stdin",
     "output_type": "stream",
     "text": [
      "Enter your name :  Hello world\n"
     ]
    },
    {
     "name": "stdout",
     "output_type": "stream",
     "text": [
      "['Hello', 'world']\n",
      "<class 'list'>\n"
     ]
    }
   ],
   "source": [
    "a=input('Enter your name : ').split(\" \")\n",
    "\n",
    "print(a)\n",
    "print(type(a))"
   ]
  },
  {
   "cell_type": "code",
   "execution_count": 10,
   "id": "79bead03-e671-41e3-b986-cb52151b8fb6",
   "metadata": {},
   "outputs": [
    {
     "name": "stdout",
     "output_type": "stream",
     "text": [
      "7\n"
     ]
    }
   ],
   "source": [
    "import random \n",
    "\n",
    "print(random.randrange(1,10))\n",
    "\n"
   ]
  },
  {
   "cell_type": "markdown",
   "id": "8e9248ec-f780-4e9a-ab5d-d6bfa6a5a87f",
   "metadata": {},
   "source": [
    "* random.random() generates a random float between 0.0 and 1.0.\n",
    "* random.randint(a, b) generates a random integer between a and b (inclusive).\n",
    "* random.randrange(start, stop, step) generates a random number from a range, with an optional step.\n",
    "* random.choice(sequence) selects a random item from a list, tuple, or string.\n",
    "* random.shuffle(sequence) shuffles a list in place.\n",
    "* random.sample(sequence, k) selects k unique items from a sequence"
   ]
  },
  {
   "cell_type": "code",
   "execution_count": 6,
   "id": "1d2cdc09-fcb2-49fb-bb59-71f5b5785e6b",
   "metadata": {},
   "outputs": [
    {
     "name": "stdin",
     "output_type": "stream",
     "text": [
      "Enter your choice (rock, paper, scissors or 'quit' to stop):  rock\n"
     ]
    },
    {
     "name": "stdout",
     "output_type": "stream",
     "text": [
      "Computer chose: paper\n",
      "Computer wins!\n"
     ]
    },
    {
     "name": "stdin",
     "output_type": "stream",
     "text": [
      "Enter your choice (rock, paper, scissors or 'quit' to stop):  quit\n"
     ]
    },
    {
     "name": "stdout",
     "output_type": "stream",
     "text": [
      "Thanks for playing!\n"
     ]
    }
   ],
   "source": [
    "import random\n",
    "\n",
    "# List of choices\n",
    "choices = [\"rock\", \"paper\", \"scissors\"]\n",
    "\n",
    "# Function to determine the winner\n",
    "def determine_winner(player, computer):\n",
    "    if player == computer:\n",
    "        return \"It's a tie!\"\n",
    "    elif (player == \"rock\" and computer == \"scissors\") or (player == \"scissors\" and computer == \"paper\") or \\\n",
    "    (player == \"paper\" and computer == \"rock\"):\n",
    "        return \"You win!\"\n",
    "    else:\n",
    "        return \"Computer wins!\"\n",
    "\n",
    "# Main game loop\n",
    "while True:\n",
    "    # Player's choice\n",
    "    player_choice = input(\"Enter your choice (rock, paper, scissors or 'quit' to stop): \").lower()\n",
    "    if player_choice == \"quit\":\n",
    "        print(\"Thanks for playing!\")\n",
    "        break\n",
    "    if player_choice not in choices:\n",
    "        print(\"Invalid choice, please try again.\")\n",
    "        continue\n",
    "\n",
    "    # Computer's random choice\n",
    "    computer_choice = random.choice(choices)\n",
    "    print(f\"Computer chose: {computer_choice}\")\n",
    "\n",
    "    # Determine the winner\n",
    "    result = determine_winner(player_choice, computer_choice)\n",
    "    print(result)\n"
   ]
  },
  {
   "cell_type": "code",
   "execution_count": 12,
   "id": "0d8437fc-4263-428b-8fb4-7508f3c2b49e",
   "metadata": {},
   "outputs": [],
   "source": [
    "x=\"hello world\""
   ]
  },
  {
   "cell_type": "code",
   "execution_count": 13,
   "id": "ab2bd697-0eb9-47b4-bb2a-55057ba86266",
   "metadata": {},
   "outputs": [
    {
     "data": {
      "text/plain": [
       "11"
      ]
     },
     "execution_count": 13,
     "metadata": {},
     "output_type": "execute_result"
    }
   ],
   "source": [
    "len(x)"
   ]
  },
  {
   "cell_type": "code",
   "execution_count": 14,
   "id": "e7f9aaf0-8730-4a93-9afa-13b3ff9a7563",
   "metadata": {},
   "outputs": [
    {
     "data": {
      "text/plain": [
       "'e'"
      ]
     },
     "execution_count": 14,
     "metadata": {},
     "output_type": "execute_result"
    }
   ],
   "source": [
    "x[1]"
   ]
  },
  {
   "cell_type": "code",
   "execution_count": 15,
   "id": "2efc23c7-9e80-41dc-b561-8bc047b67dda",
   "metadata": {},
   "outputs": [
    {
     "name": "stdout",
     "output_type": "stream",
     "text": [
      "h,e,l,l,o, ,w,o,r,l,d,"
     ]
    }
   ],
   "source": [
    "for a in x:\n",
    "    print(a,end=\",\")"
   ]
  },
  {
   "cell_type": "code",
   "execution_count": 16,
   "id": "31cd8ada-b2e1-4a82-8ba5-236632dee406",
   "metadata": {},
   "outputs": [
    {
     "name": "stdout",
     "output_type": "stream",
     "text": [
      "h e l l o   w o r l d "
     ]
    }
   ],
   "source": [
    "for i in range(len(x)):\n",
    "    print(x[i],end=\" \")"
   ]
  },
  {
   "cell_type": "code",
   "execution_count": 17,
   "id": "9c317674-2e14-4b7a-8659-d452825f6604",
   "metadata": {},
   "outputs": [
    {
     "data": {
      "text/plain": [
       "True"
      ]
     },
     "execution_count": 17,
     "metadata": {},
     "output_type": "execute_result"
    }
   ],
   "source": [
    "(\"wor\" in x)"
   ]
  },
  {
   "cell_type": "code",
   "execution_count": 18,
   "id": "d877367e-7afa-40bf-8fc1-691aa95cb5dc",
   "metadata": {},
   "outputs": [
    {
     "data": {
      "text/plain": [
       "False"
      ]
     },
     "execution_count": 18,
     "metadata": {},
     "output_type": "execute_result"
    }
   ],
   "source": [
    "(\"Wor\" in x)"
   ]
  },
  {
   "cell_type": "code",
   "execution_count": 19,
   "id": "f798f100-523e-4d88-88c4-8b6d6dd1b3e1",
   "metadata": {},
   "outputs": [
    {
     "data": {
      "text/plain": [
       "True"
      ]
     },
     "execution_count": 19,
     "metadata": {},
     "output_type": "execute_result"
    }
   ],
   "source": [
    "(\"Wor\" not in x)"
   ]
  },
  {
   "cell_type": "code",
   "execution_count": 20,
   "id": "0ff6b177-888f-4e70-a7ae-611a8d8abedb",
   "metadata": {},
   "outputs": [
    {
     "name": "stdout",
     "output_type": "stream",
     "text": [
      "hello world\n"
     ]
    },
    {
     "data": {
      "text/plain": [
       "'d'"
      ]
     },
     "execution_count": 20,
     "metadata": {},
     "output_type": "execute_result"
    }
   ],
   "source": [
    "print(x)\n",
    "x[1:5]\n",
    "x[:5]\n",
    "\n",
    "x[::-1] # reverse\n",
    "\n",
    "x[::-2]#(start,stop,steps(1 by default))\n",
    "\n",
    "x[-1]# last char\n"
   ]
  },
  {
   "cell_type": "code",
   "execution_count": 21,
   "id": "c5fb587c-6c60-4465-8c00-26fbea91a305",
   "metadata": {},
   "outputs": [
    {
     "data": {
      "text/plain": [
       "'HELLO'"
      ]
     },
     "execution_count": 21,
     "metadata": {},
     "output_type": "execute_result"
    }
   ],
   "source": [
    "x[:5].upper()"
   ]
  },
  {
   "cell_type": "code",
   "execution_count": 22,
   "id": "02bda0f1-436d-44c2-bf4d-321b9ca7e6a2",
   "metadata": {},
   "outputs": [],
   "source": [
    "start=len(x)\n",
    "e=int((len(x)-(x.find(\" \"))))\n",
    "x=\"hello world\""
   ]
  },
  {
   "cell_type": "code",
   "execution_count": 26,
   "id": "1f814860-5c9c-4db3-9f3a-7f94f5129e8b",
   "metadata": {},
   "outputs": [
    {
     "name": "stdout",
     "output_type": "stream",
     "text": [
      "hello world\n"
     ]
    }
   ],
   "source": [
    "print(x)"
   ]
  },
  {
   "cell_type": "code",
   "execution_count": 30,
   "id": "1724ecb3-f8c1-4ccd-8360-2c49f183ef8b",
   "metadata": {},
   "outputs": [
    {
     "name": "stdout",
     "output_type": "stream",
     "text": [
      "dlrow\n"
     ]
    }
   ],
   "source": [
    "print(x[(len(x)-1):(len(x)-1-x.find(\" \")):-1].lower())"
   ]
  },
  {
   "cell_type": "code",
   "execution_count": 44,
   "id": "49fc44b0-3713-439d-8199-292c9ed4d1e8",
   "metadata": {},
   "outputs": [
    {
     "name": "stdout",
     "output_type": "stream",
     "text": [
      "['hello', 'world']\n"
     ]
    }
   ],
   "source": [
    "#x[-1:-6] returns an empty sequence because the slicing direction (default forward) doesn't align with the indices.\n",
    "\n",
    "list1=x.split(\" \")\n",
    "print(list1)"
   ]
  },
  {
   "cell_type": "code",
   "execution_count": 45,
   "id": "235b8a65-af46-4641-88a9-e0cdb3008b7b",
   "metadata": {},
   "outputs": [],
   "source": [
    "list1[0]=list1[0].replace(\"l\",\"x\")"
   ]
  },
  {
   "cell_type": "code",
   "execution_count": 46,
   "id": "cf481446-42e8-4a87-b1d0-f6d2719d5d39",
   "metadata": {},
   "outputs": [
    {
     "name": "stdout",
     "output_type": "stream",
     "text": [
      "from list1:['hexxo', 'world'] : list1[0]:hexxo, list1[1]:world\n"
     ]
    }
   ],
   "source": [
    "print(f\"from list1:{list1} : list1[0]:{list1[0]}, list1[1]:{list1[1]}\")"
   ]
  },
  {
   "cell_type": "code",
   "execution_count": 50,
   "id": "062257e6-d46c-4b13-8e09-0651b37d1f61",
   "metadata": {},
   "outputs": [
    {
     "name": "stdout",
     "output_type": "stream",
     "text": [
      "2\n"
     ]
    }
   ],
   "source": [
    "print(list1[0].find(\"x\"))# first occurance index"
   ]
  },
  {
   "cell_type": "code",
   "execution_count": 51,
   "id": "3e1dbcf5-bffa-4c08-adc2-f0a45a7297a4",
   "metadata": {},
   "outputs": [
    {
     "name": "stdout",
     "output_type": "stream",
     "text": [
      "2\n"
     ]
    }
   ],
   "source": [
    "print(list1[0].count(\"x\"))"
   ]
  },
  {
   "cell_type": "code",
   "execution_count": 53,
   "id": "36755813-c013-41a3-922d-8e6490f3a8ad",
   "metadata": {},
   "outputs": [
    {
     "name": "stdout",
     "output_type": "stream",
     "text": [
      "False\n",
      "False\n",
      "False\n",
      "True\n",
      "True\n"
     ]
    }
   ],
   "source": [
    "a=10\n",
    "b=18\n",
    "\n",
    "print(a==b)\n",
    "print(a>b)\n",
    "print(a>b)\n",
    "print(a<b)\n",
    "print(a!=b)"
   ]
  },
  {
   "cell_type": "code",
   "execution_count": 57,
   "id": "c56b4dcc-d362-4f0f-91d3-b6adc8202d89",
   "metadata": {},
   "outputs": [
    {
     "name": "stdin",
     "output_type": "stream",
     "text": [
      "Enter your number:  -13\n"
     ]
    },
    {
     "name": "stdout",
     "output_type": "stream",
     "text": [
      "-13 is -ve\n",
      "-13 is -ve odd\n"
     ]
    }
   ],
   "source": [
    "a=int(input('Enter your number: '))\n",
    "\n",
    "if(a>0):\n",
    "    print(f\"{a} is +ve\")\n",
    "    if(a%2==0):\n",
    "        print(f\"{a} is +ve even\")\n",
    "    else:\n",
    "        print(f\"{a} is +ve odd\")\n",
    "\n",
    "elif(a<0):\n",
    "    print(f\"{a} is -ve\")\n",
    "    if(-a%2==0):\n",
    "        print(f\"{a} is -ve even\")\n",
    "    else:\n",
    "        print(f\"{a} is -ve odd\")\n",
    "else:\n",
    "    print(f\"{a} is zero\")\n",
    "    "
   ]
  },
  {
   "cell_type": "code",
   "execution_count": 59,
   "id": "689cbac1-fb48-4ce9-b69a-a614263f422f",
   "metadata": {},
   "outputs": [
    {
     "name": "stdout",
     "output_type": "stream",
     "text": [
      "odd\n"
     ]
    }
   ],
   "source": [
    "a=11\n",
    "print(\"even\") if a%2==0 else print(\"odd\")"
   ]
  },
  {
   "cell_type": "code",
   "execution_count": 62,
   "id": "4d8cbff8-0024-452f-a2be-167269fd4dc9",
   "metadata": {},
   "outputs": [],
   "source": [
    "a=10\n",
    "if(a==10):\n",
    "    pass\n",
    "else:\n",
    "    print(a)"
   ]
  },
  {
   "cell_type": "code",
   "execution_count": 68,
   "id": "2a682ba6-f299-4544-878b-778000196804",
   "metadata": {},
   "outputs": [
    {
     "name": "stdout",
     "output_type": "stream",
     "text": [
      "1,3,5,7,9,11,13,"
     ]
    }
   ],
   "source": [
    "list2=range(1,15,2)\n",
    "\n",
    "i=0\n",
    "while i<len(list2):\n",
    "    print(list2[i],end=\",\")\n",
    "    i=i+1"
   ]
  },
  {
   "cell_type": "code",
   "execution_count": 70,
   "id": "42b2b53c-3e7b-41c7-8601-268dfc22ce19",
   "metadata": {},
   "outputs": [
    {
     "name": "stdout",
     "output_type": "stream",
     "text": [
      "1,3,5,7,9,11,13,"
     ]
    }
   ],
   "source": [
    "for x in range(len(list2)):\n",
    "    print(list2[x],end=\",\")"
   ]
  },
  {
   "cell_type": "code",
   "execution_count": 71,
   "id": "a64ba5f1-6a7b-4c60-aab8-6fc3f81b27a2",
   "metadata": {},
   "outputs": [
    {
     "name": "stdout",
     "output_type": "stream",
     "text": [
      "hello!  Prince\n"
     ]
    }
   ],
   "source": [
    "def myfun(x):#this is parameter--used in function defenation\n",
    "    print(\"hello! \",x)\n",
    "\n",
    "myfun(\"Prince\")#this is argument -the actual value passed whwn calling the function\n",
    "\n",
    "    \n",
    "    "
   ]
  },
  {
   "cell_type": "code",
   "execution_count": 72,
   "id": "78078f6a-f05a-44a0-94d8-e29eb65ba4b5",
   "metadata": {},
   "outputs": [
    {
     "name": "stdout",
     "output_type": "stream",
     "text": [
      "Sanu\n"
     ]
    }
   ],
   "source": [
    "#Arbatary arguments *args\n",
    "# here we dont know the number of arguments\n",
    "def my_fun(*p):\n",
    "    print(p[1])\n",
    "my_fun(\"Prince\",\"Sanu\",\"Harsh\",\"Abhi\",\"Praveen\")"
   ]
  },
  {
   "cell_type": "code",
   "execution_count": 73,
   "id": "5458299f-a45a-486a-81aa-afff81a1629a",
   "metadata": {},
   "outputs": [
    {
     "name": "stdout",
     "output_type": "stream",
     "text": [
      "Pandey\n"
     ]
    }
   ],
   "source": [
    "#Keyword arbitary arguments\n",
    "\n",
    "def my_fun2(**p):\n",
    "    print(p[\"sanu\"])\n",
    "\n",
    "my_fun2(Prince=\"Kumar\",sanu=\"Pandey\",Harsh=\"Joon\")"
   ]
  },
  {
   "cell_type": "code",
   "execution_count": 80,
   "id": "8f54e837-58c9-4fc9-99e1-23231e242628",
   "metadata": {},
   "outputs": [
    {
     "name": "stdout",
     "output_type": "stream",
     "text": [
      "-4\n"
     ]
    }
   ],
   "source": [
    "import math #----sqrt pow\n",
    "def find_min(x):\n",
    "    return min(x)\n",
    "print(find_min([1,34,56,78,-4]))"
   ]
  },
  {
   "cell_type": "code",
   "execution_count": 84,
   "id": "c85711bc-a600-4b65-9c44-a40824d24c27",
   "metadata": {},
   "outputs": [
    {
     "name": "stdout",
     "output_type": "stream",
     "text": [
      "8\n"
     ]
    }
   ],
   "source": [
    "\n",
    "#lambda is a small anonamus function\n",
    "\n",
    "#lambda argument:expression\n",
    "\n",
    "x=lambda a,b:int(math.pow(a,b))\n",
    "\n",
    "print(x(2,3))"
   ]
  },
  {
   "cell_type": "markdown",
   "id": "8bdd9bd6-05fe-4d12-a8f8-a59ec75b7f9e",
   "metadata": {},
   "source": [
    "# *In Python, lists, dictionaries, sets, and tuples are collectively referred to as collection data types or container data types.*"
   ]
  },
  {
   "cell_type": "markdown",
   "id": "1dbe48f3-f81a-4f72-82bd-ffa66809ed43",
   "metadata": {},
   "source": [
    "## **LIST-----[SQUARE BRACKET]**\n",
    "\n",
    "* ITEMS ARE ORDERED,CHANGEABLE,ALLOW DUPLICATES VALUE\n",
    "> WAYS TO CREATE LIST\n",
    "* 1. list1=[1,2,3,4]\n",
    "* 2. list1=list((1,2,\"hello\",True))"
   ]
  },
  {
   "cell_type": "code",
   "execution_count": 85,
   "id": "a50d3091-c5f2-4509-bd50-48ff82ed0a02",
   "metadata": {},
   "outputs": [],
   "source": [
    "l1=[1,2,\"hello\",True,\"world\",4,5,3.0]"
   ]
  },
  {
   "cell_type": "code",
   "execution_count": 86,
   "id": "c01cb835-a663-4fad-80d6-42fe4db4b8fb",
   "metadata": {},
   "outputs": [
    {
     "data": {
      "text/plain": [
       "8"
      ]
     },
     "execution_count": 86,
     "metadata": {},
     "output_type": "execute_result"
    }
   ],
   "source": [
    "len(l1)"
   ]
  },
  {
   "cell_type": "code",
   "execution_count": 88,
   "id": "8752e978-9704-4dc0-8787-f7f1f0c94980",
   "metadata": {},
   "outputs": [
    {
     "name": "stdout",
     "output_type": "stream",
     "text": [
      "<class 'int'>, <class 'int'>, <class 'str'>, <class 'bool'>, <class 'str'>, <class 'int'>, <class 'int'>, <class 'float'>, "
     ]
    }
   ],
   "source": [
    "for x in l1:\n",
    "    print(type(x),end=\", \")"
   ]
  },
  {
   "cell_type": "code",
   "execution_count": 89,
   "id": "a52cb330-e36a-4fc4-a965-410233556062",
   "metadata": {},
   "outputs": [
    {
     "data": {
      "text/plain": [
       "list"
      ]
     },
     "execution_count": 89,
     "metadata": {},
     "output_type": "execute_result"
    }
   ],
   "source": [
    "type(l1)"
   ]
  },
  {
   "cell_type": "code",
   "execution_count": 90,
   "id": "787002da-0cc6-4d88-aaa7-4781823f26e5",
   "metadata": {},
   "outputs": [
    {
     "data": {
      "text/plain": [
       "3.0"
      ]
     },
     "execution_count": 90,
     "metadata": {},
     "output_type": "execute_result"
    }
   ],
   "source": [
    "l1[-1]"
   ]
  },
  {
   "cell_type": "code",
   "execution_count": 91,
   "id": "ee51aa48-133f-4d15-8655-7cda2ffcb901",
   "metadata": {},
   "outputs": [],
   "source": [
    "l1.insert(1,\"Prince\")"
   ]
  },
  {
   "cell_type": "code",
   "execution_count": 108,
   "id": "f845b99e-e50a-4681-b4a6-884acfdf7592",
   "metadata": {},
   "outputs": [
    {
     "data": {
      "text/plain": [
       "[2, 'hello', True, 'world', 4, 5, 3.0, 'hii', 'hii', 'hii', 'hii']"
      ]
     },
     "execution_count": 108,
     "metadata": {},
     "output_type": "execute_result"
    }
   ],
   "source": [
    "l1.append(\"hii\")\n",
    "l1"
   ]
  },
  {
   "cell_type": "code",
   "execution_count": 98,
   "id": "326b5f37-2063-4925-8da1-2d356947d6de",
   "metadata": {},
   "outputs": [
    {
     "name": "stdout",
     "output_type": "stream",
     "text": [
      "['hello', 'world', 'prince']\n"
     ]
    }
   ],
   "source": [
    "s1=[\"hello\",\"world\"]\n",
    "s2=[\"prince\"]\n",
    "s1.extend(s2)\n",
    "print(s1)"
   ]
  },
  {
   "cell_type": "code",
   "execution_count": 109,
   "id": "e0600e93-42c5-421b-8f21-e0a6ce21c9b4",
   "metadata": {},
   "outputs": [
    {
     "data": {
      "text/plain": [
       "[2, 'hello', True, 'world', 4, 5, 3.0, 'hii', 'hii', 'hii']"
      ]
     },
     "execution_count": 109,
     "metadata": {},
     "output_type": "execute_result"
    }
   ],
   "source": [
    "l1.remove(\"hii\")# first ocuurance\n",
    "l1"
   ]
  },
  {
   "cell_type": "code",
   "execution_count": 110,
   "id": "83985156-b980-41c2-bfff-3f99ad3a1dd8",
   "metadata": {},
   "outputs": [
    {
     "data": {
      "text/plain": [
       "['hello', True, 'world', 4, 5, 3.0, 'hii', 'hii', 'hii']"
      ]
     },
     "execution_count": 110,
     "metadata": {},
     "output_type": "execute_result"
    }
   ],
   "source": [
    "l1.pop(0)#index\n",
    "l1"
   ]
  },
  {
   "cell_type": "code",
   "execution_count": 114,
   "id": "61ba6289-dea7-43a4-b452-62064e8974cc",
   "metadata": {},
   "outputs": [
    {
     "data": {
      "text/plain": [
       "['hello', True, 'world', 4, 5, 3.0, 'hii']"
      ]
     },
     "execution_count": 114,
     "metadata": {},
     "output_type": "execute_result"
    }
   ],
   "source": [
    "del l1[len(l1)-1]\n",
    "l1"
   ]
  },
  {
   "cell_type": "code",
   "execution_count": 116,
   "id": "e7a3e539-fa07-42d4-92a5-f55f7f55e885",
   "metadata": {},
   "outputs": [
    {
     "data": {
      "text/plain": [
       "[]"
      ]
     },
     "execution_count": 116,
     "metadata": {},
     "output_type": "execute_result"
    }
   ],
   "source": [
    "l1.clear()\n",
    "l1"
   ]
  },
  {
   "cell_type": "code",
   "execution_count": 117,
   "id": "be6576c4-663c-4fd9-a296-ae5cf87eabcd",
   "metadata": {},
   "outputs": [],
   "source": [
    "l1=list(range(1,15,2))"
   ]
  },
  {
   "cell_type": "code",
   "execution_count": 120,
   "id": "e86e750f-0949-4f6f-9e31-0baa86412542",
   "metadata": {},
   "outputs": [
    {
     "data": {
      "text/plain": [
       "[1, 3, 5, 7, 9, 11, 13]"
      ]
     },
     "execution_count": 120,
     "metadata": {},
     "output_type": "execute_result"
    }
   ],
   "source": [
    "l1\n",
    "l1.sort()\n",
    "l1"
   ]
  },
  {
   "cell_type": "code",
   "execution_count": 122,
   "id": "3beb69c2-478a-4d95-a388-a2a54cc651a0",
   "metadata": {},
   "outputs": [
    {
     "name": "stdout",
     "output_type": "stream",
     "text": [
      "[13, 11, 9, 7, 5, 3, 1]\n"
     ]
    }
   ],
   "source": [
    "l1.sort(reverse=True)\n",
    "print(l1)"
   ]
  },
  {
   "cell_type": "code",
   "execution_count": 123,
   "id": "e8db9044-5f17-4121-a23f-717b866e0e13",
   "metadata": {},
   "outputs": [
    {
     "data": {
      "text/plain": [
       "[1, 3, 5, 7, 9, 11, 13]"
      ]
     },
     "execution_count": 123,
     "metadata": {},
     "output_type": "execute_result"
    }
   ],
   "source": [
    "l1.reverse()\n",
    "l1"
   ]
  },
  {
   "cell_type": "code",
   "execution_count": 127,
   "id": "4c60de6b-b0c7-4dc3-b923-ec3a4e641d77",
   "metadata": {},
   "outputs": [],
   "source": [
    "l1=sorted(l1,reverse=True)\n",
    "l1.append(13)"
   ]
  },
  {
   "cell_type": "code",
   "execution_count": 129,
   "id": "2e03ff3b-24fa-4583-8012-4850c38065d1",
   "metadata": {},
   "outputs": [
    {
     "name": "stdout",
     "output_type": "stream",
     "text": [
      "3\n"
     ]
    },
    {
     "data": {
      "text/plain": [
       "[13, 13, 11, 9, 7, 5, 3, 1, 13]"
      ]
     },
     "execution_count": 129,
     "metadata": {},
     "output_type": "execute_result"
    }
   ],
   "source": [
    "print(l1.count(13))\n",
    "l1"
   ]
  },
  {
   "cell_type": "markdown",
   "id": "03942a03-36c7-466b-b31b-4db4bbe24f91",
   "metadata": {},
   "source": [
    "## **TUPLES-----(ROUND BRACKET)**\n",
    "\n",
    "* ITEMS ARE ORDERED,UN-CHANGEABLE,ALLOW DUPLICATES VALUE\n",
    "> WAYS TO CREATE Tuples\n",
    "* 1. t1=(1,2,3,4)\n",
    "* 2. t1=tuple((1,2,\"hello\",True))"
   ]
  },
  {
   "cell_type": "code",
   "execution_count": 133,
   "id": "573642ca-7d0f-4b90-8a49-d2e39d96af40",
   "metadata": {},
   "outputs": [
    {
     "data": {
      "text/plain": [
       "(1, 2, 3, 4, 'hello')"
      ]
     },
     "execution_count": 133,
     "metadata": {},
     "output_type": "execute_result"
    }
   ],
   "source": [
    "t1=tuple((1,2,3,4,\"hello\"))\n",
    "t1"
   ]
  },
  {
   "cell_type": "code",
   "execution_count": 134,
   "id": "83a6d583-f893-4236-bd12-1c81a428aeee",
   "metadata": {},
   "outputs": [
    {
     "name": "stdout",
     "output_type": "stream",
     "text": [
      "(1, 2, 3, 4, 'hello', 'world')\n"
     ]
    }
   ],
   "source": [
    "x=list(t1)\n",
    "x.append(\"world\")\n",
    "t1=tuple(x)\n",
    "print(t1)"
   ]
  },
  {
   "cell_type": "code",
   "execution_count": 135,
   "id": "1e5becf5-e374-4e26-bf99-921181e838a9",
   "metadata": {},
   "outputs": [
    {
     "data": {
      "text/plain": [
       "6"
      ]
     },
     "execution_count": 135,
     "metadata": {},
     "output_type": "execute_result"
    }
   ],
   "source": [
    "len(t1)"
   ]
  },
  {
   "cell_type": "code",
   "execution_count": 136,
   "id": "310cd7e6-bf14-4e26-a683-1d08a38dafec",
   "metadata": {},
   "outputs": [
    {
     "data": {
      "text/plain": [
       "(1, 2, 3, 4, 'hello', 'world', 1, 2, 3, 4, 'hello', 'world')"
      ]
     },
     "execution_count": 136,
     "metadata": {},
     "output_type": "execute_result"
    }
   ],
   "source": [
    "t1*2"
   ]
  },
  {
   "cell_type": "code",
   "execution_count": 137,
   "id": "0f740a97-b074-49db-a1bc-2f3172aa75c7",
   "metadata": {},
   "outputs": [
    {
     "data": {
      "text/plain": [
       "(1, 2, 3, 4, 'hello', 'world', 1, 2, 3, 4, 'hello', 'world')"
      ]
     },
     "execution_count": 137,
     "metadata": {},
     "output_type": "execute_result"
    }
   ],
   "source": [
    "t1+t1"
   ]
  },
  {
   "cell_type": "markdown",
   "id": "638d0ea1-a8d7-4ec1-b000-9f9f38ea45db",
   "metadata": {},
   "source": [
    "## **SET-----{Curly BRACKET}**\n",
    "\n",
    "* ITEMS ARE UN-ORDERED,UN-CHANGEABLE(but you can add or remove items),DONT ALLOW DUPLICATES VALUE\n",
    "> WAYS TO CREATE SET\n",
    "* 1. S={\"HELLO\",1,4,5,6}\n",
    "* 2. S=set((1,2,\"hello\",True))"
   ]
  },
  {
   "cell_type": "code",
   "execution_count": 138,
   "id": "3de3baf2-ef1b-45c8-8ae2-6e16b5a11ed0",
   "metadata": {},
   "outputs": [
    {
     "data": {
      "text/plain": [
       "{1, 2, False, 'True', 'hello'}"
      ]
     },
     "execution_count": 138,
     "metadata": {},
     "output_type": "execute_result"
    }
   ],
   "source": [
    "s={1,1,2,\"hello\",\"True\",False}\n",
    "s"
   ]
  },
  {
   "cell_type": "code",
   "execution_count": 139,
   "id": "9783a928-7c53-4c48-a976-a69626e1fc5c",
   "metadata": {},
   "outputs": [
    {
     "data": {
      "text/plain": [
       "{1, 2, False, 'True', 'hello', 'world'}"
      ]
     },
     "execution_count": 139,
     "metadata": {},
     "output_type": "execute_result"
    }
   ],
   "source": [
    "s.add(\"world\")\n",
    "s"
   ]
  },
  {
   "cell_type": "code",
   "execution_count": 140,
   "id": "b55c063f-e9f9-438c-a27e-7bf38eb1f3ad",
   "metadata": {},
   "outputs": [
    {
     "data": {
      "text/plain": [
       "{1, 2, 3, 4, 5, 6, 7}"
      ]
     },
     "execution_count": 140,
     "metadata": {},
     "output_type": "execute_result"
    }
   ],
   "source": [
    "l1=[1,2,3,4,5,6,7,7]\n",
    "s2={1,4,6,7}\n",
    "\n",
    "s2.update(l1)\n",
    "s2"
   ]
  },
  {
   "cell_type": "code",
   "execution_count": 144,
   "id": "6c0961f5-d1a3-4dbc-9080-04e23dace1f4",
   "metadata": {},
   "outputs": [],
   "source": [
    "s.remove('hello')"
   ]
  },
  {
   "cell_type": "code",
   "execution_count": 145,
   "id": "459cb77e-6250-4e2d-94b8-a1133884377a",
   "metadata": {},
   "outputs": [
    {
     "data": {
      "text/plain": [
       "{1, 2, False, 'world'}"
      ]
     },
     "execution_count": 145,
     "metadata": {},
     "output_type": "execute_result"
    }
   ],
   "source": [
    "s"
   ]
  },
  {
   "cell_type": "code",
   "execution_count": 146,
   "id": "416890fd-1fbc-4741-841d-9376eedc7f38",
   "metadata": {},
   "outputs": [],
   "source": [
    "#s.union(s2) \n",
    "#s|s2\n",
    "\n",
    "#s.intersection(s2)\n",
    "#s&s2"
   ]
  },
  {
   "cell_type": "markdown",
   "id": "f7be4306-3fa1-43c4-88ca-53ac17dc036e",
   "metadata": {},
   "source": [
    "## **Dictionaries-----{Curly BRACKET}**\n",
    "\n",
    "* ITEMS ARE ORDERED,CHANGEABLE,DONT ALLOW DUPLICATES VALUE\n",
    "> WAYS TO CREATE SET\n",
    "* 1. d={\n",
    "     \"brand\":\"Ford\",\n",
    "     \"model\":\"Mustang\",\n",
    "     \"Year\":1976\n",
    "     }\n",
    "* 2. d=dict((brand=\"Ford\",model=\"Mustang\",year=1976))"
   ]
  },
  {
   "cell_type": "code",
   "execution_count": 147,
   "id": "7ae899da-8e56-49b1-b927-71937b46c5cc",
   "metadata": {},
   "outputs": [],
   "source": [
    "my_dict = dict(name=\"Bob\", age=25, city=\"Los Angeles\")"
   ]
  },
  {
   "cell_type": "code",
   "execution_count": 148,
   "id": "970e879c-12eb-4aaa-92f8-55fd0b7dd276",
   "metadata": {},
   "outputs": [
    {
     "data": {
      "text/plain": [
       "{'name': 'Bob', 'age': 25, 'city': 'Los Angeles'}"
      ]
     },
     "execution_count": 148,
     "metadata": {},
     "output_type": "execute_result"
    }
   ],
   "source": [
    "my_dict"
   ]
  },
  {
   "cell_type": "code",
   "execution_count": 151,
   "id": "7866867a-e77c-4216-9d49-bf9972ba038a",
   "metadata": {},
   "outputs": [
    {
     "name": "stdout",
     "output_type": "stream",
     "text": [
      "Los Angeles\n",
      "Los Angeles\n"
     ]
    }
   ],
   "source": [
    "print(my_dict[\"city\"])\n",
    "print(my_dict.get(\"city\"))"
   ]
  },
  {
   "cell_type": "code",
   "execution_count": 152,
   "id": "2141eac1-9fc5-49b4-b5d5-d757b7e5dc96",
   "metadata": {},
   "outputs": [
    {
     "data": {
      "text/plain": [
       "3"
      ]
     },
     "execution_count": 152,
     "metadata": {},
     "output_type": "execute_result"
    }
   ],
   "source": [
    "len(my_dict)"
   ]
  },
  {
   "cell_type": "code",
   "execution_count": 155,
   "id": "a1d7873a-7977-409c-9f63-9570fee49f36",
   "metadata": {},
   "outputs": [
    {
     "name": "stdout",
     "output_type": "stream",
     "text": [
      "dict_keys(['name', 'age', 'city'])\n",
      "dict_values(['Bob', 25, 'Los Angeles'])\n",
      "dict_items([('name', 'Bob'), ('age', 25), ('city', 'Los Angeles')])\n"
     ]
    }
   ],
   "source": [
    "print(my_dict.keys())\n",
    "print(my_dict.values())\n",
    "print(my_dict.items())"
   ]
  },
  {
   "cell_type": "code",
   "execution_count": 156,
   "id": "e54201d0-07c3-4bf6-8096-d8c4b1f8cd87",
   "metadata": {},
   "outputs": [],
   "source": [
    "my_dict[\"Gender\"]=\"Male\""
   ]
  },
  {
   "cell_type": "code",
   "execution_count": 157,
   "id": "db9cba18-5cc3-40be-a3bd-6e2146d14c3d",
   "metadata": {},
   "outputs": [
    {
     "data": {
      "text/plain": [
       "{'name': 'Bob', 'age': 25, 'city': 'Los Angeles', 'Gender': 'Male'}"
      ]
     },
     "execution_count": 157,
     "metadata": {},
     "output_type": "execute_result"
    }
   ],
   "source": [
    "my_dict"
   ]
  },
  {
   "cell_type": "code",
   "execution_count": 158,
   "id": "577efe57-e6e1-4802-9ca0-094a4a93e389",
   "metadata": {},
   "outputs": [],
   "source": [
    "#my_dict.pop(\"age\")\n",
    "#del my_dict[\"age\"]"
   ]
  },
  {
   "cell_type": "code",
   "execution_count": 159,
   "id": "5975358a-7fad-4446-9e89-3d4555c66280",
   "metadata": {},
   "outputs": [
    {
     "name": "stdout",
     "output_type": "stream",
     "text": [
      "key:name->value:Bob\n",
      "key:age->value:25\n",
      "key:city->value:Los Angeles\n",
      "key:Gender->value:Male\n"
     ]
    }
   ],
   "source": [
    "for x,y in my_dict.items():\n",
    "    print(f\"key:{x}->value:{y}\")"
   ]
  },
  {
   "cell_type": "code",
   "execution_count": 4,
   "id": "e0bdf66d-db80-4921-9114-513dc1f43b1b",
   "metadata": {},
   "outputs": [
    {
     "name": "stdout",
     "output_type": "stream",
     "text": [
      "{1: 2, 2: 1, 5: 3, 6: 2, 7: 1, 8: 1}\n"
     ]
    }
   ],
   "source": [
    "list1=[1,2,5,6,7,8,1,5,5,6]\n",
    "\n",
    "res={}\n",
    "for i in list1:\n",
    "    if i in res:\n",
    "        res[i]=res[i]+1\n",
    "    else:\n",
    "        res[i]=1\n",
    "print(res)"
   ]
  },
  {
   "cell_type": "markdown",
   "id": "3313d1c2-e0a4-4d27-9824-79638ee76965",
   "metadata": {},
   "source": [
    "## Exception Handling"
   ]
  },
  {
   "cell_type": "markdown",
   "id": "7c16d485-bf66-4b22-af9d-4c18ce1d564e",
   "metadata": {},
   "source": [
    "* The try block lets you test a block of code for errors.\n",
    "\n",
    "* The except block lets you handle the error.\n",
    "\n",
    "* The else block lets you execute code when there is no error.\n",
    "\n",
    "* The finally block lets you execute code, regardless of the result of the try- and except blocks.\n",
    "\n"
   ]
  },
  {
   "cell_type": "code",
   "execution_count": 10,
   "id": "931589d3-3c36-4e99-b967-ca64fd736f87",
   "metadata": {},
   "outputs": [
    {
     "name": "stdout",
     "output_type": "stream",
     "text": [
      "error occured!\n",
      "Try except is finished\n"
     ]
    }
   ],
   "source": [
    "try:\n",
    "    print(x)#x is not defined\n",
    "except:\n",
    "    print(\"error occured!\")\n",
    "finally:\n",
    "    print(\"Try except is finished\")"
   ]
  },
  {
   "cell_type": "code",
   "execution_count": 8,
   "id": "61198dcd-12d7-4790-a914-fd936eb96471",
   "metadata": {},
   "outputs": [
    {
     "name": "stdout",
     "output_type": "stream",
     "text": [
      "Something else went wrong\n"
     ]
    }
   ],
   "source": [
    "try:\n",
    "  print(1/0)\n",
    "except NameError:\n",
    "  print(\"Variable x is not defined\")\n",
    "except:\n",
    "  print(\"Something else went wrong\")"
   ]
  },
  {
   "cell_type": "code",
   "execution_count": 9,
   "id": "5f853f7e-d837-4f5d-8af8-591c23db8587",
   "metadata": {},
   "outputs": [
    {
     "name": "stdout",
     "output_type": "stream",
     "text": [
      "Hello\n",
      "Nothing went wrong\n"
     ]
    }
   ],
   "source": [
    "try:\n",
    "  print(\"Hello\")\n",
    "except:\n",
    "  print(\"Something went wrong\")\n",
    "else:\n",
    "  print(\"Nothing went wrong\")"
   ]
  },
  {
   "cell_type": "code",
   "execution_count": 11,
   "id": "d1d4a66e-1e6b-4812-a85f-48b97df0457b",
   "metadata": {},
   "outputs": [
    {
     "ename": "Exception",
     "evalue": "Sorry, no numbers below zero",
     "output_type": "error",
     "traceback": [
      "\u001b[1;31m---------------------------------------------------------------------------\u001b[0m",
      "\u001b[1;31mException\u001b[0m                                 Traceback (most recent call last)",
      "Cell \u001b[1;32mIn[11], line 4\u001b[0m\n\u001b[0;32m      1\u001b[0m x \u001b[38;5;241m=\u001b[39m \u001b[38;5;241m-\u001b[39m\u001b[38;5;241m1\u001b[39m\n\u001b[0;32m      3\u001b[0m \u001b[38;5;28;01mif\u001b[39;00m x \u001b[38;5;241m<\u001b[39m \u001b[38;5;241m0\u001b[39m:\n\u001b[1;32m----> 4\u001b[0m   \u001b[38;5;28;01mraise\u001b[39;00m \u001b[38;5;167;01mException\u001b[39;00m(\u001b[38;5;124m\"\u001b[39m\u001b[38;5;124mSorry, no numbers below zero\u001b[39m\u001b[38;5;124m\"\u001b[39m)\n",
      "\u001b[1;31mException\u001b[0m: Sorry, no numbers below zero"
     ]
    }
   ],
   "source": [
    "x = -1\n",
    "\n",
    "if x < 0:\n",
    "  raise Exception(\"Sorry, no numbers below zero\")"
   ]
  },
  {
   "cell_type": "markdown",
   "id": "aba8910e-86c6-4e47-a7d4-7ee05939b341",
   "metadata": {},
   "source": [
    "## File Handling"
   ]
  },
  {
   "cell_type": "markdown",
   "id": "c5cf61e7-5c8a-4688-952b-6607e2661134",
   "metadata": {},
   "source": [
    "* The key function for working with files in Python is the open() function.\n",
    "* The open() function takes two parameters; filename, and mode.\n",
    "* There are four different methods (modes) for opening a file:\n",
    "1. \"r\" - Read - Default value. Opens a file for reading, error if the file does not exist\n",
    "2. \"a\" - Append - Opens a file for appending, creates the file if it does not exist\n",
    "3. \"w\" - Write - Opens a file for writing, creates the file if it does not exist\n",
    "4. \"x\" - Create - Creates the specified file, returns an error if the file exists"
   ]
  },
  {
   "cell_type": "code",
   "execution_count": 18,
   "id": "fe194f32-0c92-4c28-a6c5-e1669217cac8",
   "metadata": {},
   "outputs": [],
   "source": [
    "f = open(\"demofile.txt\", \"w\")"
   ]
  },
  {
   "cell_type": "code",
   "execution_count": null,
   "id": "01ef0aaa-44ff-47f9-b9eb-56e7602272d1",
   "metadata": {},
   "outputs": [],
   "source": [
    "#f = open(\"demofile.txt\", \"x\") to create the file\n",
    "#\"w\" - Write - will create a file if the specified file does not exists"
   ]
  },
  {
   "cell_type": "code",
   "execution_count": 19,
   "id": "4a2b5d69-59fb-425c-ac90-340859891fb9",
   "metadata": {},
   "outputs": [
    {
     "data": {
      "text/plain": [
       "23"
      ]
     },
     "execution_count": 19,
     "metadata": {},
     "output_type": "execute_result"
    }
   ],
   "source": [
    "f.write(\"hello from demofile.txt\")"
   ]
  },
  {
   "cell_type": "code",
   "execution_count": 23,
   "id": "b2ae57e9-54e0-4ea7-bccb-c81e5f555499",
   "metadata": {},
   "outputs": [
    {
     "name": "stdout",
     "output_type": "stream",
     "text": [
      "hello from demofile.txt\n"
     ]
    }
   ],
   "source": [
    "f = open(\"demofile.txt\", \"r\")\n",
    "print(f.read())"
   ]
  },
  {
   "cell_type": "code",
   "execution_count": 26,
   "id": "71a72b30-211d-43c4-ae52-db5112a6e35a",
   "metadata": {},
   "outputs": [
    {
     "name": "stdout",
     "output_type": "stream",
     "text": [
      "hello from demofile.txt\n"
     ]
    }
   ],
   "source": [
    "f = open(\"demofile.txt\", \"r\")\n",
    "print(f.readline())#You can return one line by using the readline() method:\n",
    "f.close()"
   ]
  },
  {
   "cell_type": "markdown",
   "id": "1f1a85aa-3196-42f4-83d9-c1fc665aaa23",
   "metadata": {},
   "source": [
    "## Python Classes/Objects"
   ]
  },
  {
   "cell_type": "code",
   "execution_count": 27,
   "id": "54ea9733-d95f-44be-a3a4-7d90d044fbe6",
   "metadata": {},
   "outputs": [
    {
     "name": "stdout",
     "output_type": "stream",
     "text": [
      "30\n"
     ]
    }
   ],
   "source": [
    "class myclass:\n",
    "    x=10\n",
    "    y=20\n",
    "\n",
    "obj=myclass()# create an object of class myclass\n",
    "\n",
    "print(obj.x+obj.y)\n",
    "    "
   ]
  },
  {
   "cell_type": "code",
   "execution_count": 35,
   "id": "2eabf84d-280b-4344-9629-c32a6dc31c1c",
   "metadata": {},
   "outputs": [
    {
     "name": "stdout",
     "output_type": "stream",
     "text": [
      "John\n",
      "36\n",
      "John is 36 year old\n",
      "hello John\n"
     ]
    }
   ],
   "source": [
    "#All classes have a function called __init__(), which is always executed when the class is being initiated.\n",
    "#like a constructor\n",
    "\n",
    "class Person:\n",
    "  def __init__(self, name, age):\n",
    "    self.name = name\n",
    "    self.age = age\n",
    "  def __str__(self):\n",
    "      return (f\"{self.name} is {self.age} year old\")\n",
    "\n",
    "  def grettings(self):\n",
    "      print(f\"hello {self.name}\")\n",
    "p1 = Person(\"John\", 36)\n",
    "\n",
    "print(p1.name)\n",
    "print(p1.age)\n",
    "print(p1)\n",
    "p1.grettings()"
   ]
  },
  {
   "cell_type": "code",
   "execution_count": 36,
   "id": "a9b9b470-8c86-4be3-a0af-fd12973fbca8",
   "metadata": {},
   "outputs": [],
   "source": [
    "#The __str__() function controls what should be returned when the class object is represented as a string.\n",
    "\n",
    "#The self parameter is a reference to the current instance of the class, and is used to access variables that belong to the class.\n"
   ]
  },
  {
   "cell_type": "code",
   "execution_count": 41,
   "id": "29b47cee-9753-44cb-ac33-aeb1942f7662",
   "metadata": {},
   "outputs": [
    {
     "name": "stdout",
     "output_type": "stream",
     "text": [
      "John Doe\n",
      "prince Kumar\n",
      "Welcome Harsh Joon to the class of 2025\n"
     ]
    }
   ],
   "source": [
    "class Person:\n",
    "  def __init__(self, fname, lname):\n",
    "    self.firstname = fname\n",
    "    self.lastname = lname\n",
    "\n",
    "  def printname(self):\n",
    "    print(self.firstname, self.lastname)\n",
    "\n",
    "#Use the Person class to create an object, and then execute the printname method:\n",
    "class Student(Person):\n",
    "  pass\n",
    "\n",
    "#The child's __init__() function overrides the inheritance of the parent's __init__() function.\n",
    "#To keep the inheritance of the parent's __init__() function, add a call to the parent's __init__() function:\n",
    "class Student1(Person):\n",
    "  def __init__(self, fname, lname, year):\n",
    "    super().__init__(fname, lname)\n",
    "    self.graduationyear = year\n",
    "  def welcome(self):\n",
    "    print(\"Welcome\", self.firstname, self.lastname, \"to the class of\", self.graduationyear)\n",
    "\n",
    "x = Person(\"John\", \"Doe\")\n",
    "y=Student(\"prince\",\"Kumar\")\n",
    "z=Student1(\"Harsh\",\"Joon\",2025)\n",
    "x.printname()\n",
    "y.printname()\n",
    "z.welcome()"
   ]
  },
  {
   "cell_type": "code",
   "execution_count": null,
   "id": "520b97a1-541f-4a2e-bd76-ea41d25eaa91",
   "metadata": {},
   "outputs": [],
   "source": []
  }
 ],
 "metadata": {
  "kernelspec": {
   "display_name": "Python 3 (ipykernel)",
   "language": "python",
   "name": "python3"
  },
  "language_info": {
   "codemirror_mode": {
    "name": "ipython",
    "version": 3
   },
   "file_extension": ".py",
   "mimetype": "text/x-python",
   "name": "python",
   "nbconvert_exporter": "python",
   "pygments_lexer": "ipython3",
   "version": "3.12.4"
  },
  "widgets": {
   "application/vnd.jupyter.widget-state+json": {
    "state": {},
    "version_major": 2,
    "version_minor": 0
   }
  }
 },
 "nbformat": 4,
 "nbformat_minor": 5
}
